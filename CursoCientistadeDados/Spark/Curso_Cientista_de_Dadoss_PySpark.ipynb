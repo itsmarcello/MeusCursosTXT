{
  "nbformat": 4,
  "nbformat_minor": 0,
  "metadata": {
    "colab": {
      "name": "Curso Cientista de Dadoss- PySpark.ipynb",
      "provenance": [],
      "collapsed_sections": [
        "XrGX0KptHxrK",
        "-GMoHpU4JYKG",
        "PF4FgqEnLVEj"
      ],
      "authorship_tag": "ABX9TyNKQY3WfDV8WTX1R9g5puUU",
      "include_colab_link": true
    },
    "kernelspec": {
      "name": "python3",
      "display_name": "Python 3"
    },
    "language_info": {
      "name": "python"
    }
  },
  "cells": [
    {
      "cell_type": "markdown",
      "metadata": {
        "id": "view-in-github",
        "colab_type": "text"
      },
      "source": [
        "<a href=\"https://colab.research.google.com/github/itsmarcello/Meus_Cursos/blob/master/CursoCientistadeDados/Spark/Curso_Cientista_de_Dadoss_PySpark.ipynb\" target=\"_parent\"><img src=\"https://colab.research.google.com/assets/colab-badge.svg\" alt=\"Open In Colab\"/></a>"
      ]
    },
    {
      "cell_type": "code",
      "metadata": {
        "id": "y72GbxJ4rvtA"
      },
      "source": [
        "\n",
        "# instalar as dependências\n",
        "!apt-get install openjdk-8-jdk-headless -qq > /dev/null\n",
        "!wget -q https://archive.apache.org/dist/spark/spark-2.4.4/spark-2.4.4-bin-hadoop2.7.tgz\n",
        "!tar xf spark-2.4.4-bin-hadoop2.7.tgz\n",
        "!pip install -q findspark\n",
        "\n",
        "# instalar as dependências\n",
        "!apt-get install openjdk-8-jdk-headless -qq > /dev/null\n",
        "!wget -q https://archive.apache.org/dist/spark/spark-2.4.4/spark-2.4.4-bin-hadoop2.7.tgz\n",
        "!tar xf spark-2.4.4-bin-hadoop2.7.tgz\n",
        "!pip install -q findspark\n"
      ],
      "execution_count": 5,
      "outputs": []
    },
    {
      "cell_type": "code",
      "metadata": {
        "id": "XIz1KDuNG-rs"
      },
      "source": [
        "pip install pyspark"
      ],
      "execution_count": null,
      "outputs": []
    },
    {
      "cell_type": "code",
      "metadata": {
        "id": "xKe2Ia26LrE-"
      },
      "source": [
        "# iniciar uma sessão local e importar dados do Airbnb\n",
        "from pyspark.sql import SparkSession\n",
        "sc = SparkSession.builder.master('local[*]').getOrCreate()\n"
      ],
      "execution_count": null,
      "outputs": []
    },
    {
      "cell_type": "code",
      "metadata": {
        "id": "j-S5uDCcQylv"
      },
      "source": [
        "# create Spark context with Spark configuration\n",
        "from pyspark import SparkConf\n",
        "from pyspark import SparkContext\n",
        "conf = SparkConf().setAppName(\"read text file in pyspark\")\n",
        "sc = SparkContext(conf=conf)"
      ],
      "execution_count": 8,
      "outputs": []
    },
    {
      "cell_type": "markdown",
      "metadata": {
        "id": "qpsqxtizHq28"
      },
      "source": [
        "## Operações Set"
      ]
    },
    {
      "cell_type": "code",
      "metadata": {
        "id": "3Ze3tQVAMqu-"
      },
      "source": [
        "# Criando uma lista em Python\n",
        "lista1 = [124, 901, 652, 102, 397]\n",
        "\n",
        "\n",
        "# Carregando dados de um CSV\n",
        "autoDataRDD = sc.textFile(\"carros.csv\")\n",
        "sc.textFile\n",
        "auto = sc.textFile(\"carros.csv\")\n",
        "# Mostrar CSV\n",
        "autoDataRDD.collect() #--> Print tudo\n",
        "autoDataRDD.first() #--> Print First Line\n",
        "autoDataRDD.take(5) #--> Print First Line\n",
        "autoDataRDD.cache() #--> Print OS Tipos dos \n",
        "\n",
        "# Print line one by line\n",
        "# for line in lines.collect():\n",
        "# \tprint(line)\n",
        " \n",
        "# Tranformação 1 :  Map() e criação de um novo RDD - Transformação - Lazy Evaluation\n",
        "tsvData = autoDataRDD.map(lambda x : x.replace(\",\",\"\\t\"))\n",
        "tsvData.take(5)\n",
        "\n",
        "# Tranformação 2 :Filter() e criação de um novo RDD - Transformação - Lazy Evaluation\n",
        "toyotaData = autoDataRDD.filter(lambda x: \"toyota\" in x)\n",
        "toyotaData.count()\n",
        "\n",
        "# Ação\n",
        "toyotaData.take(20)\n",
        "# Gravar o Resultado em um Arquivo\n",
        "toyotaData.saveAsTextFile(\"meuscarros.csv\")\n",
        "\n",
        "\n"
      ],
      "execution_count": null,
      "outputs": []
    },
    {
      "cell_type": "markdown",
      "metadata": {
        "id": "XrGX0KptHxrK"
      },
      "source": [
        "## JOINS"
      ]
    },
    {
      "cell_type": "code",
      "metadata": {
        "id": "4bvUSJbRsNvV",
        "colab": {
          "base_uri": "https://localhost:8080/"
        },
        "outputId": "cfb37d5c-35eb-48e3-d0b4-3bf724d52788"
      },
      "source": [
        "# Set operations\n",
        "palavras1 = sc.parallelize([\"Big Data\",\"Data Science\",\"Analytics\",\"Visualization\"])\n",
        "palavras2 = sc.parallelize([\"Big Data\",\"R\",\"Python\",\"Scala\"])\n",
        "\n",
        "# União\n",
        "# for unions in palavras1.union(palavras2).distinct().collect():\n",
        "#     print(unions)\n",
        "\n",
        "# Interseção\n",
        "for intersects in palavras1.intersection(palavras2).collect():\n",
        "    print(intersects)\n",
        "\n"
      ],
      "execution_count": 13,
      "outputs": [
        {
          "output_type": "stream",
          "text": [
            "Big Data\n"
          ],
          "name": "stdout"
        }
      ]
    },
    {
      "cell_type": "markdown",
      "metadata": {
        "id": "A9Gf_NzhH1m2"
      },
      "source": [
        "Left/Right Outer Join"
      ]
    },
    {
      "cell_type": "code",
      "metadata": {
        "colab": {
          "base_uri": "https://localhost:8080/"
        },
        "id": "xQiV_kqcH8vb",
        "outputId": "423600a9-134e-40f9-88af-c392fb8a7603"
      },
      "source": [
        "names1 = sc.parallelize((\"banana\", \"uva\", \"laranja\")).map(lambda a: (a, 1))\n",
        "names2 = sc.parallelize((\"laranja\", \"abacaxi\", \"manga\")).map(lambda a: (a, 1))\n",
        "names1.join(names2).collect()\n",
        "\n",
        "names1.leftOuterJoin(names2).collect()\n",
        "names1.rightOuterJoin(names2).collect()"
      ],
      "execution_count": 16,
      "outputs": [
        {
          "output_type": "execute_result",
          "data": {
            "text/plain": [
              "[('manga', (None, 1)), ('laranja', (1, 1)), ('abacaxi', (None, 1))]"
            ]
          },
          "metadata": {
            "tags": []
          },
          "execution_count": 16
        }
      ]
    },
    {
      "cell_type": "markdown",
      "metadata": {
        "id": "8lez-orEJGvP"
      },
      "source": [
        "Distinct"
      ]
    },
    {
      "cell_type": "code",
      "metadata": {
        "colab": {
          "base_uri": "https://localhost:8080/"
        },
        "id": "Rmedm6Y-JGAB",
        "outputId": "d5ff4710-33c4-45ce-e911-0f286484741f"
      },
      "source": [
        "# Distinct\n",
        "lista1 = [124, 901, 652, 102, 397, 124, 901, 652]\n",
        "lstRDD = sc.parallelize(lista1)\n",
        "for numbData in lstRDD.distinct().collect():\n",
        "    print(numbData)"
      ],
      "execution_count": 17,
      "outputs": [
        {
          "output_type": "stream",
          "text": [
            "124\n",
            "652\n",
            "102\n",
            "901\n",
            "397\n"
          ],
          "name": "stdout"
        }
      ]
    },
    {
      "cell_type": "markdown",
      "metadata": {
        "id": "-GMoHpU4JYKG"
      },
      "source": [
        "## Transformação e Limpeza"
      ]
    },
    {
      "cell_type": "code",
      "metadata": {
        "colab": {
          "base_uri": "https://localhost:8080/"
        },
        "id": "udpdPC_wJXej",
        "outputId": "65d3feae-ec0a-4f36-ddd5-02e53884f760"
      },
      "source": [
        "# Transformação e Limpeza\n",
        "def LimpaRDD(autoStr) :\n",
        "    if isinstance(autoStr, int) :\n",
        "        return autoStr\n",
        "    attList = autoStr.split(\",\")\n",
        "    \n",
        "    # Converte o número de portas para um num\n",
        "    if attList[3] == \"two\" :\n",
        "         attList[3] = \"2\"\n",
        "    else:\n",
        "         attList[3] = \"4\"\n",
        "    \n",
        "    # Convert o modelo do carro para uppercase\n",
        "    attList[5] = attList[4].upper()\n",
        "    return \",\".join(attList)\n",
        "\n",
        "autoDataRDD = sc.textFile(\"carros.csv\")\n",
        "RDD_limpo = autoDataRDD.map(LimpaRDD)\n",
        "RDD_limpo.collect()"
      ],
      "execution_count": 22,
      "outputs": [
        {
          "output_type": "execute_result",
          "data": {
            "text/plain": [
              "['MAKE,FUELTYPE,ASPIRE,4,BODY,BODY,CYLINDERS,HP,RPM,MPG-CITY,MPG-HWY,PRICE',\n",
              " 'subaru,gas,std,2,hatchback,HATCHBACK,four,69,4900,31,36,5118',\n",
              " 'chevrolet,gas,std,2,hatchback,HATCHBACK,three,48,5100,47,53,5151',\n",
              " 'mazda,gas,std,2,hatchback,HATCHBACK,four,68,5000,30,31,5195',\n",
              " 'toyota,gas,std,2,hatchback,HATCHBACK,four,62,4800,35,39,5348',\n",
              " 'mitsubishi,gas,std,2,hatchback,HATCHBACK,four,68,5500,37,41,5389',\n",
              " 'honda,gas,std,2,hatchback,HATCHBACK,four,60,5500,38,42,5399',\n",
              " 'nissan,gas,std,2,sedan,SEDAN,four,69,5200,31,37,5499',\n",
              " 'dodge,gas,std,2,hatchback,HATCHBACK,four,68,5500,37,41,5572',\n",
              " 'plymouth,gas,std,2,hatchback,HATCHBACK,four,68,5500,37,41,5572',\n",
              " 'mazda,gas,std,2,hatchback,HATCHBACK,four,68,5000,31,38,6095',\n",
              " 'mitsubishi,gas,std,2,hatchback,HATCHBACK,four,68,5500,31,38,6189',\n",
              " 'dodge,gas,std,4,hatchback,HATCHBACK,four,68,5500,31,38,6229',\n",
              " 'plymouth,gas,std,4,hatchback,HATCHBACK,four,68,5500,31,38,6229',\n",
              " 'chevrolet,gas,std,2,hatchback,HATCHBACK,four,70,5400,38,43,6295',\n",
              " 'toyota,gas,std,2,hatchback,HATCHBACK,four,62,4800,31,38,6338',\n",
              " 'dodge,gas,std,2,hatchback,HATCHBACK,four,68,5500,31,38,6377',\n",
              " 'honda,gas,std,2,hatchback,HATCHBACK,four,58,4800,49,54,6479',\n",
              " 'toyota,gas,std,4,hatchback,HATCHBACK,four,62,4800,31,38,6488',\n",
              " 'honda,gas,std,2,hatchback,HATCHBACK,four,76,6000,30,34,6529',\n",
              " 'chevrolet,gas,std,4,sedan,SEDAN,four,70,5400,38,43,6575',\n",
              " 'nissan,gas,std,2,sedan,SEDAN,four,69,5200,31,37,6649',\n",
              " 'mitsubishi,gas,std,2,hatchback,HATCHBACK,four,68,5500,31,38,6669',\n",
              " 'dodge,gas,std,4,sedan,SEDAN,four,68,5500,31,38,6692',\n",
              " 'plymouth,gas,std,4,sedan,SEDAN,four,68,5500,31,38,6692',\n",
              " 'mazda,gas,std,4,sedan,SEDAN,four,68,5000,31,38,6695',\n",
              " 'isuzu,gas,std,4,sedan,SEDAN,four,78,4800,24,29,6785',\n",
              " 'mazda,gas,std,2,hatchback,HATCHBACK,four,68,5000,31,38,6795',\n",
              " 'nissan,gas,std,4,sedan,SEDAN,four,69,5200,31,37,6849',\n",
              " 'honda,gas,std,2,hatchback,HATCHBACK,four,76,6000,31,38,6855',\n",
              " 'toyota,gas,std,4,wagon,WAGON,four,62,4800,31,37,6918',\n",
              " 'toyota,gas,std,4,sedan,SEDAN,four,70,4800,30,37,6938',\n",
              " 'mitsubishi,gas,std,4,sedan,SEDAN,four,88,5000,25,32,6989',\n",
              " 'subaru,gas,std,2,hatchback,HATCHBACK,four,73,4400,26,31,7053',\n",
              " 'nissan,diesel,std,2,sedan,SEDAN,four,55,4800,45,50,7099',\n",
              " 'subaru,gas,std,4,sedan,SEDAN,four,82,4800,32,37,7126',\n",
              " 'honda,gas,std,2,hatchback,HATCHBACK,four,76,6000,30,34,7129',\n",
              " 'toyota,gas,std,4,hatchback,HATCHBACK,four,70,4800,30,37,7198',\n",
              " 'honda,gas,std,4,sedan,SEDAN,four,76,6000,30,34,7295',\n",
              " 'honda,gas,std,4,wagon,WAGON,four,76,6000,30,34,7295',\n",
              " 'nissan,gas,std,2,sedan,SEDAN,four,69,5200,31,37,7299',\n",
              " 'nissan,gas,std,4,wagon,WAGON,four,69,5200,31,37,7349',\n",
              " 'mazda,gas,std,4,sedan,SEDAN,four,68,5000,31,38,7395',\n",
              " 'subaru,gas,std,4,wagon,WAGON,four,82,4800,28,32,7463',\n",
              " 'nissan,gas,std,4,sedan,SEDAN,four,69,5200,31,37,7499',\n",
              " 'subaru,gas,std,2,hatchback,HATCHBACK,four,73,4400,26,31,7603',\n",
              " 'dodge,gas,std,4,sedan,SEDAN,four,68,5500,31,38,7609',\n",
              " 'plymouth,gas,std,4,sedan,SEDAN,four,68,5500,31,38,7609',\n",
              " 'mitsubishi,gas,turbo,2,hatchback,HATCHBACK,four,102,5500,24,30,7689',\n",
              " 'toyota,gas,std,4,sedan,SEDAN,four,70,4800,38,47,7738',\n",
              " 'subaru,gas,std,4,sedan,SEDAN,four,82,4400,28,33,7775',\n",
              " 'volkswagen,diesel,std,2,sedan,SEDAN,four,52,4800,37,46,7775',\n",
              " 'toyota,diesel,std,4,hatchback,HATCHBACK,four,56,4500,38,47,7788',\n",
              " 'nissan,gas,std,2,hatchback,HATCHBACK,four,69,5200,31,37,7799',\n",
              " 'honda,gas,std,2,hatchback,HATCHBACK,four,86,5800,27,33,7895',\n",
              " 'toyota,gas,std,4,wagon,WAGON,four,62,4800,27,32,7898',\n",
              " 'toyota,diesel,std,4,sedan,SEDAN,four,56,4500,34,36,7898',\n",
              " 'dodge,gas,turbo,2,hatchback,HATCHBACK,four,102,5500,24,30,7957',\n",
              " 'plymouth,gas,turbo,2,hatchback,HATCHBACK,four,102,5500,24,30,7957',\n",
              " 'volkswagen,gas,std,2,sedan,SEDAN,four,85,5250,27,34,7975',\n",
              " 'volkswagen,diesel,std,4,sedan,SEDAN,four,52,4800,37,46,7995',\n",
              " 'nissan,gas,std,4,wagon,WAGON,four,69,5200,31,37,7999',\n",
              " 'subaru,gas,std,4,wagon,WAGON,four,82,4800,23,29,8013',\n",
              " 'toyota,gas,std,2,sedan,SEDAN,four,70,4800,29,34,8058',\n",
              " 'mitsubishi,gas,std,4,sedan,SEDAN,four,88,5000,25,32,8189',\n",
              " 'volkswagen,gas,std,4,sedan,SEDAN,four,85,5250,27,34,8195',\n",
              " 'toyota,gas,std,2,hatchback,HATCHBACK,four,70,4800,29,34,8238',\n",
              " 'nissan,gas,std,2,hardtop,HARDTOP,four,69,5200,31,37,8249',\n",
              " 'toyota,gas,std,4,hatchback,HATCHBACK,four,70,4800,28,34,8358',\n",
              " 'toyota,gas,std,2,hardtop,HARDTOP,four,116,4800,24,30,8449',\n",
              " 'mazda,gas,std,4,sedan,SEDAN,four,84,4800,26,32,8495',\n",
              " 'volkswagen,gas,std,4,sedan,SEDAN,four,85,5250,27,34,8495',\n",
              " 'mitsubishi,gas,std,2,hatchback,HATCHBACK,four,88,5000,25,32,8499',\n",
              " 'toyota,gas,std,4,wagon,WAGON,four,62,4800,27,32,8778',\n",
              " 'honda,gas,std,4,sedan,SEDAN,four,86,5800,27,33,8845',\n",
              " 'mazda,gas,std,2,hatchback,HATCHBACK,four,84,4800,26,32,8845',\n",
              " 'dodge,gas,std,4,wagon,WAGON,four,88,5000,24,30,8921',\n",
              " 'plymouth,gas,std,4,wagon,WAGON,four,88,5000,24,30,8921',\n",
              " 'toyota,gas,std,4,sedan,SEDAN,four,92,4200,29,34,8948',\n",
              " 'nissan,gas,std,4,hatchback,HATCHBACK,four,97,5200,27,34,8949',\n",
              " 'honda,gas,std,2,hatchback,HATCHBACK,four,86,5800,27,33,9095',\n",
              " 'subaru,gas,std,4,sedan,SEDAN,four,82,4800,24,25,9233',\n",
              " 'toyota,gas,std,4,sedan,SEDAN,four,70,4800,28,34,9258',\n",
              " 'mitsubishi,gas,turbo,4,sedan,SEDAN,four,116,5500,23,30,9279',\n",
              " 'mitsubishi,gas,std,4,sedan,SEDAN,four,116,5500,23,30,9279',\n",
              " 'toyota,gas,std,2,sedan,SEDAN,four,112,6600,26,29,9298',\n",
              " 'volkswagen,diesel,turbo,4,sedan,SEDAN,four,68,4500,37,42,9495',\n",
              " 'toyota,gas,std,2,hatchback,HATCHBACK,four,112,6600,26,29,9538',\n",
              " 'nissan,gas,std,4,sedan,SEDAN,four,97,5200,27,34,9549',\n",
              " 'toyota,gas,std,2,hardtop,HARDTOP,four,116,4800,24,30,9639',\n",
              " 'mitsubishi,gas,turbo,2,hatchback,HATCHBACK,four,116,5500,23,30,9959',\n",
              " 'subaru,gas,std,4,sedan,SEDAN,four,94,5200,26,32,9960',\n",
              " 'volkswagen,gas,std,2,hatchback,HATCHBACK,four,90,5500,24,29,9980',\n",
              " 'toyota,gas,std,4,hatchback,HATCHBACK,four,92,4200,27,32,9988',\n",
              " 'toyota,gas,std,2,hatchback,HATCHBACK,four,116,4800,24,30,9989',\n",
              " 'volkswagen,gas,std,4,sedan,SEDAN,four,100,5500,26,32,9995',\n",
              " 'subaru,gas,std,4,wagon,WAGON,four,94,5200,25,31,10198',\n",
              " 'mazda,gas,std,4,sedan,SEDAN,four,84,4800,26,32,10245',\n",
              " 'honda,gas,std,4,sedan,SEDAN,four,86,5800,27,33,10295',\n",
              " 'honda,gas,std,2,sedan,SEDAN,four,100,5500,25,31,10345',\n",
              " 'mazda,gas,std,2,hatchback,HATCHBACK,four,84,4800,26,32,10595',\n",
              " 'toyota,diesel,turbo,4,sedan,SEDAN,four,73,4500,30,33,10698',\n",
              " 'toyota,gas,std,4,sedan,SEDAN,four,92,4200,27,32,10898',\n",
              " 'mazda,gas,std,2,hatchback,HATCHBACK,two,101,6000,17,23,10945',\n",
              " 'isuzu,gas,std,2,hatchback,HATCHBACK,four,90,5000,24,29,11048',\n",
              " 'toyota,gas,std,2,hardtop,HARDTOP,four,116,4800,24,30,11199',\n",
              " 'mazda,gas,std,4,hatchback,HATCHBACK,four,84,4800,26,32,11245',\n",
              " 'toyota,gas,std,4,hatchback,HATCHBACK,four,92,4200,27,32,11248',\n",
              " 'subaru,gas,turbo,4,sedan,SEDAN,four,111,4800,24,29,11259',\n",
              " 'toyota,gas,std,2,hatchback,HATCHBACK,four,116,4800,24,30,11549',\n",
              " 'volkswagen,gas,std,2,convertible,CONVERTIBLE,four,90,5500,24,29,11595',\n",
              " 'subaru,gas,turbo,4,wagon,WAGON,four,111,4800,23,23,11694',\n",
              " 'mazda,gas,std,2,hatchback,HATCHBACK,two,101,6000,17,23,11845',\n",
              " 'saab,gas,std,2,hatchback,HATCHBACK,four,110,5250,21,28,11850',\n",
              " 'peugot,gas,std,4,sedan,SEDAN,four,97,5000,19,24,11900',\n",
              " 'saab,gas,std,4,sedan,SEDAN,four,110,5250,21,28,12170',\n",
              " 'volkswagen,gas,std,4,wagon,WAGON,four,88,5500,25,31,12290',\n",
              " 'peugot,gas,std,4,wagon,WAGON,four,97,5000,19,24,12440',\n",
              " 'mitsubishi,gas,turbo,2,hatchback,HATCHBACK,four,145,5000,19,24,12629',\n",
              " 'plymouth,gas,turbo,2,hatchback,HATCHBACK,four,145,5000,19,24,12764',\n",
              " 'volvo,gas,std,4,sedan,SEDAN,four,114,5400,23,28,12940',\n",
              " 'honda,gas,std,4,sedan,SEDAN,four,101,5800,24,28,12945',\n",
              " 'dodge,gas,turbo,2,hatchback,HATCHBACK,four,145,5000,19,24,12964',\n",
              " 'peugot,diesel,turbo,4,sedan,SEDAN,four,95,4150,28,33,13200',\n",
              " 'volkswagen,gas,std,4,sedan,SEDAN,five,110,5500,19,24,13295',\n",
              " 'volvo,gas,std,4,wagon,WAGON,four,114,5400,23,28,13415',\n",
              " 'alfa-romero,gas,std,2,convertible,CONVERTIBLE,four,111,5000,21,27,13495',\n",
              " 'nissan,gas,std,4,sedan,SEDAN,six,152,5200,17,22,13499',\n",
              " 'nissan,gas,std,4,sedan,SEDAN,six,152,5200,19,25,13499',\n",
              " 'mazda,gas,std,2,hatchback,HATCHBACK,two,101,6000,17,23,13645',\n",
              " 'volkswagen,diesel,turbo,4,sedan,SEDAN,four,68,4500,33,38,13845',\n",
              " 'peugot,diesel,turbo,4,wagon,WAGON,four,95,4150,25,25,13860',\n",
              " 'audi,gas,std,4,sedan,SEDAN,four,102,5500,24,30,13950',\n",
              " 'nissan,gas,std,4,wagon,WAGON,six,152,5200,17,22,14399',\n",
              " 'mitsubishi,gas,turbo,2,hatchback,HATCHBACK,four,145,5000,19,24,14489',\n",
              " 'mitsubishi,gas,turbo,2,hatchback,HATCHBACK,four,145,5000,19,24,14869',\n",
              " 'saab,gas,std,2,hatchback,HATCHBACK,four,110,5250,21,28,15040',\n",
              " 'audi,gas,std,2,sedan,SEDAN,five,110,5500,19,25,15250',\n",
              " 'saab,gas,std,4,sedan,SEDAN,four,110,5250,21,28,15510',\n",
              " 'peugot,gas,std,4,sedan,SEDAN,four,95,5000,19,24,15580',\n",
              " 'mazda,gas,std,2,hatchback,HATCHBACK,two,135,6000,16,23,15645',\n",
              " 'toyota,gas,std,4,sedan,SEDAN,six,156,5200,20,24,15690',\n",
              " 'toyota,gas,std,4,wagon,WAGON,six,156,5200,19,24,15750',\n",
              " 'volvo,gas,std,4,sedan,SEDAN,four,114,5400,24,28,15985',\n",
              " 'toyota,gas,std,2,hatchback,HATCHBACK,six,161,5200,19,24,15998',\n",
              " 'bmw,gas,std,2,sedan,SEDAN,four,101,5800,23,29,16430',\n",
              " 'alfa-romero,gas,std,2,convertible,CONVERTIBLE,four,111,5000,21,27,16500',\n",
              " 'alfa-romero,gas,std,2,hatchback,HATCHBACK,six,154,5000,19,26,16500',\n",
              " 'mercury,gas,turbo,2,hatchback,HATCHBACK,four,175,5000,19,24,16503',\n",
              " 'volvo,gas,std,4,wagon,WAGON,four,114,5400,24,28,16515',\n",
              " 'toyota,gas,std,2,hatchback,HATCHBACK,six,161,5200,20,24,16558',\n",
              " 'peugot,gas,std,4,sedan,SEDAN,four,97,5000,19,24,16630',\n",
              " 'peugot,gas,std,4,wagon,WAGON,four,95,5000,19,24,16695',\n",
              " 'volvo,gas,std,4,sedan,SEDAN,four,114,5400,23,28,16845',\n",
              " 'peugot,diesel,turbo,4,sedan,SEDAN,four,95,4150,28,33,16900',\n",
              " 'bmw,gas,std,4,sedan,SEDAN,four,101,5800,23,29,16925',\n",
              " 'peugot,diesel,turbo,4,wagon,WAGON,four,95,4150,25,25,17075',\n",
              " 'nissan,gas,std,2,hatchback,HATCHBACK,six,160,5200,19,25,17199',\n",
              " 'audi,gas,std,4,sedan,SEDAN,five,115,5500,18,22,17450',\n",
              " 'toyota,gas,std,2,convertible,CONVERTIBLE,four,116,4800,24,30,17669',\n",
              " 'audi,gas,std,4,sedan,SEDAN,five,110,5500,19,25,17710',\n",
              " 'peugot,diesel,turbo,4,sedan,SEDAN,four,95,4150,28,33,17950',\n",
              " 'peugot,gas,turbo,4,sedan,SEDAN,four,142,5600,18,24,18150',\n",
              " 'saab,gas,turbo,2,hatchback,HATCHBACK,four,160,5500,19,26,18150',\n",
              " 'mazda,gas,std,4,sedan,SEDAN,four,120,5000,19,27,18280',\n",
              " 'mazda,diesel,std,4,sedan,SEDAN,four,72,4200,31,39,18344',\n",
              " 'nissan,gas,std,2,hatchback,HATCHBACK,six,160,5200,19,25,18399',\n",
              " 'volvo,gas,turbo,4,sedan,SEDAN,four,162,5100,17,22,18420',\n",
              " 'saab,gas,turbo,4,sedan,SEDAN,four,160,5500,19,26,18620',\n",
              " 'audi,gas,std,4,wagon,WAGON,five,110,5500,19,25,18920',\n",
              " 'volvo,gas,turbo,4,wagon,WAGON,four,162,5100,17,22,18950',\n",
              " 'volvo,gas,turbo,4,sedan,SEDAN,four,160,5300,19,25,19045',\n",
              " 'nissan,gas,turbo,2,hatchback,HATCHBACK,six,200,5200,17,23,19699',\n",
              " 'bmw,gas,std,2,sedan,SEDAN,six,121,4250,21,28,20970',\n",
              " 'bmw,gas,std,4,sedan,SEDAN,six,121,4250,21,28,21105',\n",
              " 'volvo,gas,std,4,sedan,SEDAN,six,134,5500,18,23,21485',\n",
              " 'porsche,gas,std,2,hatchback,HATCHBACK,four,143,5500,19,27,22018',\n",
              " 'volvo,diesel,turbo,4,sedan,SEDAN,six,106,4800,26,27,22470',\n",
              " 'volvo,gas,turbo,4,sedan,SEDAN,four,114,5400,19,25,22625',\n",
              " 'audi,gas,turbo,4,sedan,SEDAN,five,140,5500,17,20,23875',\n",
              " 'bmw,gas,std,4,sedan,SEDAN,six,121,4250,20,25,24565',\n",
              " 'mercedes-benz,diesel,turbo,4,sedan,SEDAN,five,123,4350,22,25,25552',\n",
              " 'mercedes-benz,diesel,turbo,2,hardtop,HARDTOP,five,123,4350,22,25,28176',\n",
              " 'mercedes-benz,diesel,turbo,4,wagon,WAGON,five,123,4350,22,25,28248',\n",
              " 'bmw,gas,std,4,sedan,SEDAN,six,182,5400,16,22,30760',\n",
              " 'mercedes-benz,diesel,turbo,4,sedan,SEDAN,five,123,4350,22,25,31600',\n",
              " 'jaguar,gas,std,4,sedan,SEDAN,six,176,4750,15,19,32250',\n",
              " 'porsche,gas,std,2,hardtop,HARDTOP,six,207,5900,17,25,32528',\n",
              " 'porsche,gas,std,2,hardtop,HARDTOP,six,207,5900,17,25,34028',\n",
              " 'mercedes-benz,gas,std,4,sedan,SEDAN,eight,155,4750,16,18,34184',\n",
              " 'mercedes-benz,gas,std,2,convertible,CONVERTIBLE,eight,155,4750,16,18,35056',\n",
              " 'jaguar,gas,std,4,sedan,SEDAN,six,176,4750,15,19,35550',\n",
              " 'jaguar,gas,std,2,sedan,SEDAN,twelve,262,5000,13,17,36000',\n",
              " 'bmw,gas,std,4,sedan,SEDAN,six,182,5400,15,20,36880',\n",
              " 'porsche,gas,std,2,convertible,CONVERTIBLE,six,207,5900,17,25,37028',\n",
              " 'mercedes-benz,gas,std,4,sedan,SEDAN,eight,184,4500,14,16,40960',\n",
              " 'bmw,gas,std,2,sedan,SEDAN,six,182,5400,16,22,41315',\n",
              " 'mercedes-benz,gas,std,2,hardtop,HARDTOP,eight,184,4500,14,16,45400']"
            ]
          },
          "metadata": {
            "tags": []
          },
          "execution_count": 22
        }
      ]
    },
    {
      "cell_type": "markdown",
      "metadata": {
        "id": "PF4FgqEnLVEj"
      },
      "source": [
        "#Ações"
      ]
    },
    {
      "cell_type": "code",
      "metadata": {
        "colab": {
          "base_uri": "https://localhost:8080/",
          "height": 35
        },
        "id": "Cnc2krxiLTgj",
        "outputId": "234720e2-b846-4214-9539-029b8981311b"
      },
      "source": [
        "# reduce() - soma de valores\n",
        "lista2 = [124, 901, 652, 102, 397, 124, 901, 652]\n",
        "lstRDD = sc.parallelize(lista2)\n",
        "lstRDD.collect()\n",
        "lstRDD.reduce(lambda x,y: x + y)   #--> Agregação dos dados em torno de uma função, nesse caso somando todos os numeros\n",
        "\n",
        "# Encontrando a linha com menor número de caracteres\n",
        "autoDataRDD.reduce(lambda x,y: x if len(x) < len(y) else y) # --> Redece dois e revolve x ou y"
      ],
      "execution_count": 25,
      "outputs": [
        {
          "output_type": "execute_result",
          "data": {
            "application/vnd.google.colaboratory.intrinsic+json": {
              "type": "string"
            },
            "text/plain": [
              "'bmw,gas,std,two,sedan,rwd,six,182,5400,16,22,41315'"
            ]
          },
          "metadata": {
            "tags": []
          },
          "execution_count": 25
        }
      ]
    },
    {
      "cell_type": "code",
      "metadata": {
        "colab": {
          "base_uri": "https://localhost:8080/"
        },
        "id": "Mz2fEGx7MIt1",
        "outputId": "58409391-841e-4f36-8004-78c513ffc89f"
      },
      "source": [
        "# Criando uma função para redução\n",
        "def getMPG( autoStr) :\n",
        "    if isinstance(autoStr, int) :\n",
        "        return autoStr\n",
        "    attList = autoStr.split(\",\")\n",
        "    if attList[9].isdigit() :\n",
        "        return int(attList[9])\n",
        "    else:\n",
        "        return 0\n",
        "\n",
        "# Encontrando a média de MPG para todos os carros\n",
        "autoDataRDD.reduce(lambda x,y : getMPG(x) + getMPG(y)) / (autoDataRDD.count() -1)"
      ],
      "execution_count": 26,
      "outputs": [
        {
          "output_type": "execute_result",
          "data": {
            "text/plain": [
              "25.15228426395939"
            ]
          },
          "metadata": {
            "tags": []
          },
          "execution_count": 26
        }
      ]
    },
    {
      "cell_type": "code",
      "metadata": {
        "colab": {
          "base_uri": "https://localhost:8080/"
        },
        "id": "4UvWdxxSM0Ul",
        "outputId": "c693f4bb-6e38-4c94-e868-4c6f6634e230"
      },
      "source": [
        "# Take Samples - Pegar Amostragem do dataset\n",
        "teams = sc.parallelize((\"Flamengo\", \"Vasco\", \"Botafogo\", \"Fluminense\", \"Palmeiras\", \"Bahia\"))\n",
        "teams.takeSample(True, 3)\n",
        "\n",
        "# Contar ocorrencias em uma lista\n",
        "teams = sc.parallelize((\"Flamengo\", \"Vasco\", \"Botafogo\", \"Fluminense\", \"Palmeiras\", \"Bahia\", \"Bahia\", \"Vasco\"))\n",
        "teams.map(lambda k: (k,1)).countByKey().items()"
      ],
      "execution_count": 30,
      "outputs": [
        {
          "output_type": "execute_result",
          "data": {
            "text/plain": [
              "dict_items([('Flamengo', 1), ('Vasco', 2), ('Botafogo', 1), ('Fluminense', 1), ('Palmeiras', 1), ('Bahia', 2)])"
            ]
          },
          "metadata": {
            "tags": []
          },
          "execution_count": 30
        }
      ]
    },
    {
      "cell_type": "markdown",
      "metadata": {
        "id": "MgHs4GoHNbkn"
      },
      "source": [
        "# Analise de caso - Uber"
      ]
    },
    {
      "cell_type": "code",
      "metadata": {
        "id": "lR9AaikwOZDN"
      },
      "source": [
        "#Usando Pandas para ler o csv\n",
        "import pandas as pd\n",
        "from pyspark.sql import SQLContext\n",
        "sqlContext = SQLContext(sc)\n",
        "\n",
        "uberfile = pd.read_csv(\"uber.csv\") #--> Dataframe do Pandas\n",
        "uberDF = sqlContext.createDataFrame(uberfile)  #--> Dataframe do Spark\n"
      ],
      "execution_count": null,
      "outputs": []
    },
    {
      "cell_type": "code",
      "metadata": {
        "id": "s45rMH_fNfY7"
      },
      "source": [
        "# Abrindo com o proprio Spark \n",
        "\n",
        "uberRDD = sc.textFile(\"uber.csv\") #--> RDD do Sparl\n",
        "uberRDD.count()\n",
        "uberRDD.first()\n",
        "uberRDD .collect()"
      ],
      "execution_count": null,
      "outputs": []
    },
    {
      "cell_type": "code",
      "metadata": {
        "colab": {
          "base_uri": "https://localhost:8080/"
        },
        "id": "8yZcVci0Pl8z",
        "outputId": "8fb6a17a-256b-46db-9dd7-2348a832926b"
      },
      "source": [
        "# Algumas Transformações\n",
        "uberLinhas = uberRDD.map(lambda line: line.split(\",\"))  # Ex: Transfomração\n",
        "B02617_RDD = uberLinhas.filter(lambda linha: \"B02617\" in linha) # Ex: Filtro  \"B02617\"\n",
        "B02617_RDD.filter(lambda linha: int(linha[3]) > 15000).count() # Ex: Conta \"Trip\" > 15000 \n",
        "B02617_RDD.filter(lambda linha: int(linha[3]) > 15000).collect() # Ex: Conta \"Trip\" > 15000 "
      ],
      "execution_count": 63,
      "outputs": [
        {
          "output_type": "execute_result",
          "data": {
            "text/plain": [
              "[['B02617', '1/31/2015', '1394', '15756'],\n",
              " ['B02617', '2/6/2015', '1526', '15417'],\n",
              " ['B02617', '2/13/2015', '1590', '16996'],\n",
              " ['B02617', '2/14/2015', '1486', '16999'],\n",
              " ['B02617', '2/20/2015', '1574', '16856'],\n",
              " ['B02617', '2/21/2015', '1443', '16098']]"
            ]
          },
          "metadata": {
            "tags": []
          },
          "execution_count": 63
        }
      ]
    },
    {
      "cell_type": "code",
      "metadata": {
        "id": "D4CCaCltSJcH"
      },
      "source": [
        "# Importart CSV sem cabeçalho\n",
        "\n",
        "uberRDD2= sc.textFile(\"uber.csv\").filter(lambda line: \"base\" not in line).map(lambda line: line.split(\",\"))\n",
        "uberRDD2.collect() # A palavra \"base\" só aparece no cabeçalho"
      ],
      "execution_count": null,
      "outputs": []
    },
    {
      "cell_type": "code",
      "metadata": {
        "colab": {
          "base_uri": "https://localhost:8080/"
        },
        "id": "15bdbl7NSZsV",
        "outputId": "b32e47de-1e04-4be7-d1f4-d374f15d618d"
      },
      "source": [
        "# Agrupar por 0 e Somar pela Base na coluna 3\n",
        "uberRDD2.map(lambda kp: (kp[0], int(kp[3]))).reduceByKey(lambda k,v: (k+v)).collect()"
      ],
      "execution_count": 80,
      "outputs": [
        {
          "output_type": "execute_result",
          "data": {
            "text/plain": [
              "[('B02765', 193670),\n",
              " ('B02682', 662509),\n",
              " ('B02598', 540791),\n",
              " ('B02512', 93786),\n",
              " ('B02764', 1914449),\n",
              " ('B02617', 725025)]"
            ]
          },
          "metadata": {
            "tags": []
          },
          "execution_count": 80
        }
      ]
    },
    {
      "cell_type": "code",
      "metadata": {
        "id": "fI7vEkW5TBP1"
      },
      "source": [
        ""
      ],
      "execution_count": null,
      "outputs": []
    }
  ]
}