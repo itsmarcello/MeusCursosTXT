{
  "nbformat": 4,
  "nbformat_minor": 0,
  "metadata": {
    "colab": {
      "name": "Curso Cientista de Dadoss- SQL Spark.ipynb",
      "provenance": [],
      "collapsed_sections": [],
      "authorship_tag": "ABX9TyN6E8TqI/KsXkeoYHS4r3ay",
      "include_colab_link": true
    },
    "kernelspec": {
      "name": "python3",
      "display_name": "Python 3"
    },
    "language_info": {
      "name": "python"
    }
  },
  "cells": [
    {
      "cell_type": "markdown",
      "metadata": {
        "id": "view-in-github",
        "colab_type": "text"
      },
      "source": [
        "<a href=\"https://colab.research.google.com/github/itsmarcello/Meus_Cursos/blob/master/CursoCientistadeDados/Spark/Curso_Cientista_de_Dadoss_SQL_Spark.ipynb\" target=\"_parent\"><img src=\"https://colab.research.google.com/assets/colab-badge.svg\" alt=\"Open In Colab\"/></a>"
      ]
    },
    {
      "cell_type": "code",
      "metadata": {
        "id": "GYdCLLOSZmvQ"
      },
      "source": [
        "pip install pyspark"
      ],
      "execution_count": null,
      "outputs": []
    },
    {
      "cell_type": "code",
      "metadata": {
        "id": "Ho0OnIaVU4DA"
      },
      "source": [
        "from pyspark.sql import SparkSession\n",
        "from pyspark.sql import SQLContext\n",
        "from pyspark.sql import Row\n",
        "from pyspark import SparkConf"
      ],
      "execution_count": null,
      "outputs": []
    },
    {
      "cell_type": "code",
      "metadata": {
        "id": "imcd4xXPbzvT"
      },
      "source": [
        "spSession = SparkSession.builder.master(\"local\").appName(\"DSA-SparkSQL\").config(\"spark.some.config.option\", \"some-value\").getOrCreate()"
      ],
      "execution_count": 24,
      "outputs": []
    },
    {
      "cell_type": "code",
      "metadata": {
        "id": "WiaW6cYpbJg7"
      },
      "source": [
        "from pyspark import SparkContext\n",
        "from pyspark import SparkConf\n",
        "conf = SparkConf().setAppName(\"read text file in pyspark\")\n",
        "sc = SparkContext(conf=conf)"
      ],
      "execution_count": 10,
      "outputs": []
    },
    {
      "cell_type": "code",
      "metadata": {
        "id": "FTe5czcgZ26g"
      },
      "source": [
        "# Spark Session - usada quando se trabalha com Dataframes no Spark\n",
        "from pyspark.sql import SparkSession\n",
        "sc = SparkContext(conf=conf)\n",
        "# Criando o SQL Context para trabalhar com Spark SQL\n",
        "sqlContext = SQLContext(sc)"
      ],
      "execution_count": null,
      "outputs": []
    },
    {
      "cell_type": "code",
      "metadata": {
        "id": "GsOXtQj9a27g"
      },
      "source": [
        "linhasRDD1 = sc.textFile(\"carros.csv\")\n",
        "linhasRDD2 = linhasRDD1.filter(lambda x: \"FUELTYPE\" not in x) # -> Retira primeira linha\n",
        "linhasRDD3 = linhasRDD2.map(lambda line : line.split(\",\"))\n",
        "linhasRDD4 = linhasRDD3.map(lambda p : Row(make = p[0], body = p[4], hp = int(p[7])))\n",
        "linhasRDD4.collect()"
      ],
      "execution_count": null,
      "outputs": []
    },
    {
      "cell_type": "markdown",
      "metadata": {
        "id": "WjDfWoZTexUy"
      },
      "source": [
        "## From RDD to DataFrame"
      ]
    },
    {
      "cell_type": "code",
      "metadata": {
        "id": "2bs1wMrdcnJS"
      },
      "source": [
        "# Transforma Objeto Row em DF\n",
        "linhasDF = spSession.createDataFrame(linhasRDD4)\n",
        "linhasDF.show()"
      ],
      "execution_count": 26,
      "outputs": []
    },
    {
      "cell_type": "code",
      "metadata": {
        "id": "dNhqhBayde4k"
      },
      "source": [
        "#linhasDF.select(*).show()  # Ainda é um Objeto do Spark!\n",
        "linhasDF.orderBy(\"make\").show()  # Ainda é um Objeto do Spark!"
      ],
      "execution_count": null,
      "outputs": []
    },
    {
      "cell_type": "markdown",
      "metadata": {
        "id": "m1XQMkwDfPKv"
      },
      "source": [
        "Para Usar o SQL assim como usar no SQL Server ou Oracle, preciamos de uma \"Tabela Temporária\""
      ]
    },
    {
      "cell_type": "code",
      "metadata": {
        "id": "CGnUmicOfXxL"
      },
      "source": [
        "linhasDF.createOrReplaceTempView(\"linhasTB\")"
      ],
      "execution_count": 34,
      "outputs": []
    },
    {
      "cell_type": "code",
      "metadata": {
        "id": "XK9QnF-UfiDM"
      },
      "source": [
        "# Executando queries SQL ANSI\n",
        "spSession.sql(\"select * from linhasTB where make = 'nissan'\").show()"
      ],
      "execution_count": null,
      "outputs": []
    },
    {
      "cell_type": "code",
      "metadata": {
        "id": "959yAiIXfnwO"
      },
      "source": [
        "# Executando queries SQL ANSI\n",
        "spSession.sql(\"Select make, body, avg(hp)  from linhasTB group by make, body \").show()"
      ],
      "execution_count": null,
      "outputs": []
    },
    {
      "cell_type": "markdown",
      "metadata": {
        "id": "v9Su9_GlgBQF"
      },
      "source": [
        "### SQL Spark e Arquivos CSV"
      ]
    },
    {
      "cell_type": "code",
      "metadata": {
        "id": "qxJk4Ybhf2cp"
      },
      "source": [
        ""
      ],
      "execution_count": null,
      "outputs": []
    }
  ]
}